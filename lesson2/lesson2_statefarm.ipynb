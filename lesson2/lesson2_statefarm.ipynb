{
 "cells": [
  {
   "cell_type": "code",
   "execution_count": 28,
   "metadata": {
    "collapsed": true
   },
   "outputs": [],
   "source": [
    "%matplotlib inline"
   ]
  },
  {
   "cell_type": "code",
   "execution_count": 29,
   "metadata": {},
   "outputs": [],
   "source": [
    "#import modules\n",
    "from utils import *\n",
    "from vgg16 import Vgg16"
   ]
  },
  {
   "cell_type": "code",
   "execution_count": 48,
   "metadata": {},
   "outputs": [
    {
     "name": "stdout",
     "output_type": "stream",
     "text": [
      "c:\\Users\\Manuel\\Projects\\deepLearning\\lesson2\n"
     ]
    }
   ],
   "source": [
    "%cd c:/Users/Manuel/Projects/deepLearning/lesson2/"
   ]
  },
  {
   "cell_type": "code",
   "execution_count": 45,
   "metadata": {},
   "outputs": [
    {
     "data": {
      "text/plain": [
       "'C:\\\\Users\\\\Manuel\\\\Projects\\\\deepLearning\\\\data\\\\statefarm'"
      ]
     },
     "execution_count": 45,
     "metadata": {},
     "output_type": "execute_result"
    }
   ],
   "source": [
    "%pwd"
   ]
  },
  {
   "cell_type": "code",
   "execution_count": 49,
   "metadata": {
    "collapsed": true
   },
   "outputs": [],
   "source": [
    "#Create references to important directories we will use over and over\n",
    "import os, sys\n",
    "current_dir = os.getcwd()\n",
    "LESSON_HOME_DIR = current_dir\n",
    "DATA_HOME_DIR = current_dir+'/../data/statefarm'"
   ]
  },
  {
   "cell_type": "markdown",
   "metadata": {},
   "source": [
    "## Create validation set and sample"
   ]
  },
  {
   "cell_type": "code",
   "execution_count": 4,
   "metadata": {},
   "outputs": [
    {
     "name": "stdout",
     "output_type": "stream",
     "text": [
      "env: DATA_HOME=C:\\Users\\Manuel\\Projects\\deepLearning\\lesson2/../data/statefarm\n"
     ]
    }
   ],
   "source": [
    "%set_env DATA_HOME=$DATA_HOME_DIR"
   ]
  },
  {
   "cell_type": "code",
   "execution_count": 5,
   "metadata": {
    "collapsed": true
   },
   "outputs": [],
   "source": [
    "%%bash\n",
    "cd $DATA_HOME\n",
    "mkdir -p sample/train\n",
    "mkdir -p sample/test\n",
    "mkdir -p sample/valid\n",
    "mkdir -p sample/results\n",
    "mkdir -p test/unknown\n",
    "mkdir -p valid"
   ]
  },
  {
   "cell_type": "code",
   "execution_count": 91,
   "metadata": {},
   "outputs": [
    {
     "name": "stdout",
     "output_type": "stream",
     "text": [
      "c:\\Users\\Manuel\\Projects\\deepLearning\\data\\statefarm\\train\n"
     ]
    }
   ],
   "source": [
    "%cd $DATA_HOME_DIR/train"
   ]
  },
  {
   "cell_type": "code",
   "execution_count": 7,
   "metadata": {
    "collapsed": true
   },
   "outputs": [],
   "source": [
    "for j in range(10):\n",
    "    folder_name = \"c%d\" % j\n",
    "    "
   ]
  },
  {
   "cell_type": "code",
   "execution_count": 30,
   "metadata": {},
   "outputs": [
    {
     "name": "stdout",
     "output_type": "stream",
     "text": [
      "C:\\Users\\Manuel\\Projects\\deepLearning\\data\\statefarm\\train\\c0\n",
      "C:\\Users\\Manuel\\Projects\\deepLearning\\data\\statefarm\\train\n",
      "C:\\Users\\Manuel\\Projects\\deepLearning\\data\\statefarm\\train\\c1\n",
      "C:\\Users\\Manuel\\Projects\\deepLearning\\data\\statefarm\\train\n",
      "C:\\Users\\Manuel\\Projects\\deepLearning\\data\\statefarm\\train\\c2\n",
      "C:\\Users\\Manuel\\Projects\\deepLearning\\data\\statefarm\\train\n",
      "C:\\Users\\Manuel\\Projects\\deepLearning\\data\\statefarm\\train\\c3\n",
      "C:\\Users\\Manuel\\Projects\\deepLearning\\data\\statefarm\\train\n",
      "C:\\Users\\Manuel\\Projects\\deepLearning\\data\\statefarm\\train\\c4\n",
      "C:\\Users\\Manuel\\Projects\\deepLearning\\data\\statefarm\\train\n",
      "C:\\Users\\Manuel\\Projects\\deepLearning\\data\\statefarm\\train\\c5\n",
      "C:\\Users\\Manuel\\Projects\\deepLearning\\data\\statefarm\\train\n",
      "C:\\Users\\Manuel\\Projects\\deepLearning\\data\\statefarm\\train\\c6\n",
      "C:\\Users\\Manuel\\Projects\\deepLearning\\data\\statefarm\\train\n",
      "C:\\Users\\Manuel\\Projects\\deepLearning\\data\\statefarm\\train\\c7\n",
      "C:\\Users\\Manuel\\Projects\\deepLearning\\data\\statefarm\\train\n",
      "C:\\Users\\Manuel\\Projects\\deepLearning\\data\\statefarm\\train\\c8\n",
      "C:\\Users\\Manuel\\Projects\\deepLearning\\data\\statefarm\\train\n",
      "C:\\Users\\Manuel\\Projects\\deepLearning\\data\\statefarm\\train\\c9\n",
      "C:\\Users\\Manuel\\Projects\\deepLearning\\data\\statefarm\\train\n"
     ]
    }
   ],
   "source": [
    "for j in range(10):\n",
    "    folder_name = \"c%d\" % j\n",
    "    %cd $folder_name\n",
    "    os.mkdir(DATA_HOME_DIR+'/valid/'+folder_name)\n",
    "    g = glob('*.jpg')\n",
    "    shuf = np.random.permutation(g)\n",
    "    for i in range(200):\n",
    "        new_name = DATA_HOME_DIR+'/valid/'+folder_name+\"/\"+shuf[i]\n",
    "        os.rename(shuf[i], new_name)\n",
    "    %cd .."
   ]
  },
  {
   "cell_type": "code",
   "execution_count": 32,
   "metadata": {
    "collapsed": true
   },
   "outputs": [],
   "source": [
    "from shutil import copyfile"
   ]
  },
  {
   "cell_type": "code",
   "execution_count": 41,
   "metadata": {},
   "outputs": [
    {
     "name": "stdout",
     "output_type": "stream",
     "text": [
      "C:\\Users\\Manuel\\Projects\\deepLearning\\data\\statefarm\\train\n"
     ]
    }
   ],
   "source": [
    "%cd $DATA_HOME_DIR/train"
   ]
  },
  {
   "cell_type": "code",
   "execution_count": 42,
   "metadata": {},
   "outputs": [
    {
     "name": "stdout",
     "output_type": "stream",
     "text": [
      "C:\\Users\\Manuel\\Projects\\deepLearning\\data\\statefarm\\train\\c0\n",
      "C:\\Users\\Manuel\\Projects\\deepLearning\\data\\statefarm\\train\n",
      "C:\\Users\\Manuel\\Projects\\deepLearning\\data\\statefarm\\train\\c1\n",
      "C:\\Users\\Manuel\\Projects\\deepLearning\\data\\statefarm\\train\n",
      "C:\\Users\\Manuel\\Projects\\deepLearning\\data\\statefarm\\train\\c2\n",
      "C:\\Users\\Manuel\\Projects\\deepLearning\\data\\statefarm\\train\n",
      "C:\\Users\\Manuel\\Projects\\deepLearning\\data\\statefarm\\train\\c3\n",
      "C:\\Users\\Manuel\\Projects\\deepLearning\\data\\statefarm\\train\n",
      "C:\\Users\\Manuel\\Projects\\deepLearning\\data\\statefarm\\train\\c4\n",
      "C:\\Users\\Manuel\\Projects\\deepLearning\\data\\statefarm\\train\n",
      "C:\\Users\\Manuel\\Projects\\deepLearning\\data\\statefarm\\train\\c5\n",
      "C:\\Users\\Manuel\\Projects\\deepLearning\\data\\statefarm\\train\n",
      "C:\\Users\\Manuel\\Projects\\deepLearning\\data\\statefarm\\train\\c6\n",
      "C:\\Users\\Manuel\\Projects\\deepLearning\\data\\statefarm\\train\n",
      "C:\\Users\\Manuel\\Projects\\deepLearning\\data\\statefarm\\train\\c7\n",
      "C:\\Users\\Manuel\\Projects\\deepLearning\\data\\statefarm\\train\n",
      "C:\\Users\\Manuel\\Projects\\deepLearning\\data\\statefarm\\train\\c8\n",
      "C:\\Users\\Manuel\\Projects\\deepLearning\\data\\statefarm\\train\n",
      "C:\\Users\\Manuel\\Projects\\deepLearning\\data\\statefarm\\train\\c9\n",
      "C:\\Users\\Manuel\\Projects\\deepLearning\\data\\statefarm\\train\n"
     ]
    }
   ],
   "source": [
    "for j in range(10):\n",
    "    folder_name = \"c%d\" % j\n",
    "    %cd $folder_name\n",
    "    os.mkdir(DATA_HOME_DIR+'/sample/train/'+folder_name)\n",
    "    g = glob('*.jpg')\n",
    "    shuf = np.random.permutation(g)\n",
    "    for i in range(20):\n",
    "        copyfile(shuf[i], DATA_HOME_DIR+'/sample/train/'+folder_name+\"/\"+shuf[i])\n",
    "    %cd .."
   ]
  },
  {
   "cell_type": "code",
   "execution_count": 45,
   "metadata": {},
   "outputs": [
    {
     "name": "stdout",
     "output_type": "stream",
     "text": [
      "C:\\Users\\Manuel\\Projects\\deepLearning\\data\\statefarm\\valid\n"
     ]
    }
   ],
   "source": [
    "%cd $DATA_HOME_DIR/valid"
   ]
  },
  {
   "cell_type": "code",
   "execution_count": 46,
   "metadata": {},
   "outputs": [
    {
     "name": "stdout",
     "output_type": "stream",
     "text": [
      "C:\\Users\\Manuel\\Projects\\deepLearning\\data\\statefarm\\valid\\c0\n",
      "C:\\Users\\Manuel\\Projects\\deepLearning\\data\\statefarm\\valid\n",
      "C:\\Users\\Manuel\\Projects\\deepLearning\\data\\statefarm\\valid\\c1\n",
      "C:\\Users\\Manuel\\Projects\\deepLearning\\data\\statefarm\\valid\n",
      "C:\\Users\\Manuel\\Projects\\deepLearning\\data\\statefarm\\valid\\c2\n",
      "C:\\Users\\Manuel\\Projects\\deepLearning\\data\\statefarm\\valid\n",
      "C:\\Users\\Manuel\\Projects\\deepLearning\\data\\statefarm\\valid\\c3\n",
      "C:\\Users\\Manuel\\Projects\\deepLearning\\data\\statefarm\\valid\n",
      "C:\\Users\\Manuel\\Projects\\deepLearning\\data\\statefarm\\valid\\c4\n",
      "C:\\Users\\Manuel\\Projects\\deepLearning\\data\\statefarm\\valid\n",
      "C:\\Users\\Manuel\\Projects\\deepLearning\\data\\statefarm\\valid\\c5\n",
      "C:\\Users\\Manuel\\Projects\\deepLearning\\data\\statefarm\\valid\n",
      "C:\\Users\\Manuel\\Projects\\deepLearning\\data\\statefarm\\valid\\c6\n",
      "C:\\Users\\Manuel\\Projects\\deepLearning\\data\\statefarm\\valid\n",
      "C:\\Users\\Manuel\\Projects\\deepLearning\\data\\statefarm\\valid\\c7\n",
      "C:\\Users\\Manuel\\Projects\\deepLearning\\data\\statefarm\\valid\n",
      "C:\\Users\\Manuel\\Projects\\deepLearning\\data\\statefarm\\valid\\c8\n",
      "C:\\Users\\Manuel\\Projects\\deepLearning\\data\\statefarm\\valid\n",
      "C:\\Users\\Manuel\\Projects\\deepLearning\\data\\statefarm\\valid\\c9\n",
      "C:\\Users\\Manuel\\Projects\\deepLearning\\data\\statefarm\\valid\n"
     ]
    }
   ],
   "source": [
    "for j in range(10):\n",
    "    folder_name = \"c%d\" % j\n",
    "    %cd $folder_name\n",
    "    os.mkdir(DATA_HOME_DIR+'/sample/valid/'+folder_name)\n",
    "    g = glob('*.jpg')\n",
    "    shuf = np.random.permutation(g)\n",
    "    for i in range(5): \n",
    "        copyfile(shuf[i], DATA_HOME_DIR+'/sample/valid/' +folder_name+\"/\"+ shuf[i])\n",
    "    %cd .."
   ]
  },
  {
   "cell_type": "markdown",
   "metadata": {},
   "source": [
    "## Rearrange image files into their respective directories"
   ]
  },
  {
   "cell_type": "code",
   "execution_count": 47,
   "metadata": {},
   "outputs": [
    {
     "name": "stdout",
     "output_type": "stream",
     "text": [
      "env: DATA_HOME=C:\\Users\\Manuel\\Projects\\deepLearning\\lesson2/../data/statefarm\n"
     ]
    }
   ],
   "source": [
    "%set_env DATA_HOME=$DATA_HOME_DIR\n"
   ]
  },
  {
   "cell_type": "code",
   "execution_count": 48,
   "metadata": {},
   "outputs": [
    {
     "name": "stdout",
     "output_type": "stream",
     "text": [
      "Error while terminating subprocess (pid=4356): Unsupported signal: 2\n"
     ]
    }
   ],
   "source": [
    "%%bash\n",
    "cd $DATA_HOME/test/\n",
    "mv *.jpg unknown/"
   ]
  },
  {
   "cell_type": "markdown",
   "metadata": {},
   "source": [
    "## Finetuning and Training"
   ]
  },
  {
   "cell_type": "code",
   "execution_count": 50,
   "metadata": {},
   "outputs": [
    {
     "name": "stdout",
     "output_type": "stream",
     "text": [
      "c:\\Users\\Manuel\\Projects\\deepLearning\\data\\statefarm\n"
     ]
    }
   ],
   "source": [
    "%cd $DATA_HOME_DIR\n",
    "\n",
    "#Set path to sample/ path if desired\n",
    "#path = DATA_HOME_DIR + '/'\n",
    "path = DATA_HOME_DIR + '/sample/'\n",
    "test_path = path + '/test/' \n",
    "results_path=path + '/results/'\n",
    "train_path=path + '/train/'\n",
    "valid_path=path + '/valid/'"
   ]
  },
  {
   "cell_type": "code",
   "execution_count": 32,
   "metadata": {
    "collapsed": true
   },
   "outputs": [],
   "source": [
    "vgg = Vgg16()"
   ]
  },
  {
   "cell_type": "code",
   "execution_count": 33,
   "metadata": {},
   "outputs": [
    {
     "name": "stdout",
     "output_type": "stream",
     "text": [
      "____________________________________________________________________________________________________\n",
      "Layer (type)                     Output Shape          Param #     Connected to                     \n",
      "====================================================================================================\n",
      "lambda_3 (Lambda)                (None, 3, 224, 224)   0           lambda_input_3[0][0]             \n",
      "____________________________________________________________________________________________________\n",
      "zeropadding2d_27 (ZeroPadding2D) (None, 3, 226, 226)   0           lambda_3[0][0]                   \n",
      "____________________________________________________________________________________________________\n",
      "convolution2d_27 (Convolution2D) (None, 64, 224, 224)  1792        zeropadding2d_27[0][0]           \n",
      "____________________________________________________________________________________________________\n",
      "zeropadding2d_28 (ZeroPadding2D) (None, 64, 226, 226)  0           convolution2d_27[0][0]           \n",
      "____________________________________________________________________________________________________\n",
      "convolution2d_28 (Convolution2D) (None, 64, 224, 224)  36928       zeropadding2d_28[0][0]           \n",
      "____________________________________________________________________________________________________\n",
      "maxpooling2d_11 (MaxPooling2D)   (None, 64, 112, 112)  0           convolution2d_28[0][0]           \n",
      "____________________________________________________________________________________________________\n",
      "zeropadding2d_29 (ZeroPadding2D) (None, 64, 114, 114)  0           maxpooling2d_11[0][0]            \n",
      "____________________________________________________________________________________________________\n",
      "convolution2d_29 (Convolution2D) (None, 128, 112, 112) 73856       zeropadding2d_29[0][0]           \n",
      "____________________________________________________________________________________________________\n",
      "zeropadding2d_30 (ZeroPadding2D) (None, 128, 114, 114) 0           convolution2d_29[0][0]           \n",
      "____________________________________________________________________________________________________\n",
      "convolution2d_30 (Convolution2D) (None, 128, 112, 112) 147584      zeropadding2d_30[0][0]           \n",
      "____________________________________________________________________________________________________\n",
      "maxpooling2d_12 (MaxPooling2D)   (None, 128, 56, 56)   0           convolution2d_30[0][0]           \n",
      "____________________________________________________________________________________________________\n",
      "zeropadding2d_31 (ZeroPadding2D) (None, 128, 58, 58)   0           maxpooling2d_12[0][0]            \n",
      "____________________________________________________________________________________________________\n",
      "convolution2d_31 (Convolution2D) (None, 256, 56, 56)   295168      zeropadding2d_31[0][0]           \n",
      "____________________________________________________________________________________________________\n",
      "zeropadding2d_32 (ZeroPadding2D) (None, 256, 58, 58)   0           convolution2d_31[0][0]           \n",
      "____________________________________________________________________________________________________\n",
      "convolution2d_32 (Convolution2D) (None, 256, 56, 56)   590080      zeropadding2d_32[0][0]           \n",
      "____________________________________________________________________________________________________\n",
      "zeropadding2d_33 (ZeroPadding2D) (None, 256, 58, 58)   0           convolution2d_32[0][0]           \n",
      "____________________________________________________________________________________________________\n",
      "convolution2d_33 (Convolution2D) (None, 256, 56, 56)   590080      zeropadding2d_33[0][0]           \n",
      "____________________________________________________________________________________________________\n",
      "maxpooling2d_13 (MaxPooling2D)   (None, 256, 28, 28)   0           convolution2d_33[0][0]           \n",
      "____________________________________________________________________________________________________\n",
      "zeropadding2d_34 (ZeroPadding2D) (None, 256, 30, 30)   0           maxpooling2d_13[0][0]            \n",
      "____________________________________________________________________________________________________\n",
      "convolution2d_34 (Convolution2D) (None, 512, 28, 28)   1180160     zeropadding2d_34[0][0]           \n",
      "____________________________________________________________________________________________________\n",
      "zeropadding2d_35 (ZeroPadding2D) (None, 512, 30, 30)   0           convolution2d_34[0][0]           \n",
      "____________________________________________________________________________________________________\n",
      "convolution2d_35 (Convolution2D) (None, 512, 28, 28)   2359808     zeropadding2d_35[0][0]           \n",
      "____________________________________________________________________________________________________\n",
      "zeropadding2d_36 (ZeroPadding2D) (None, 512, 30, 30)   0           convolution2d_35[0][0]           \n",
      "____________________________________________________________________________________________________\n",
      "convolution2d_36 (Convolution2D) (None, 512, 28, 28)   2359808     zeropadding2d_36[0][0]           \n",
      "____________________________________________________________________________________________________\n",
      "maxpooling2d_14 (MaxPooling2D)   (None, 512, 14, 14)   0           convolution2d_36[0][0]           \n",
      "____________________________________________________________________________________________________\n",
      "zeropadding2d_37 (ZeroPadding2D) (None, 512, 16, 16)   0           maxpooling2d_14[0][0]            \n",
      "____________________________________________________________________________________________________\n",
      "convolution2d_37 (Convolution2D) (None, 512, 14, 14)   2359808     zeropadding2d_37[0][0]           \n",
      "____________________________________________________________________________________________________\n",
      "zeropadding2d_38 (ZeroPadding2D) (None, 512, 16, 16)   0           convolution2d_37[0][0]           \n",
      "____________________________________________________________________________________________________\n",
      "convolution2d_38 (Convolution2D) (None, 512, 14, 14)   2359808     zeropadding2d_38[0][0]           \n",
      "____________________________________________________________________________________________________\n",
      "zeropadding2d_39 (ZeroPadding2D) (None, 512, 16, 16)   0           convolution2d_38[0][0]           \n",
      "____________________________________________________________________________________________________\n",
      "convolution2d_39 (Convolution2D) (None, 512, 14, 14)   2359808     zeropadding2d_39[0][0]           \n",
      "____________________________________________________________________________________________________\n",
      "maxpooling2d_15 (MaxPooling2D)   (None, 512, 7, 7)     0           convolution2d_39[0][0]           \n",
      "____________________________________________________________________________________________________\n",
      "flatten_3 (Flatten)              (None, 25088)         0           maxpooling2d_15[0][0]            \n",
      "____________________________________________________________________________________________________\n",
      "dense_8 (Dense)                  (None, 4096)          102764544   flatten_3[0][0]                  \n",
      "____________________________________________________________________________________________________\n",
      "dropout_5 (Dropout)              (None, 4096)          0           dense_8[0][0]                    \n",
      "____________________________________________________________________________________________________\n",
      "dense_9 (Dense)                  (None, 4096)          16781312    dropout_5[0][0]                  \n",
      "____________________________________________________________________________________________________\n",
      "dropout_6 (Dropout)              (None, 4096)          0           dense_9[0][0]                    \n",
      "____________________________________________________________________________________________________\n",
      "dense_10 (Dense)                 (None, 1000)          4097000     dropout_6[0][0]                  \n",
      "====================================================================================================\n",
      "Total params: 138,357,544\n",
      "Trainable params: 138,357,544\n",
      "Non-trainable params: 0\n",
      "____________________________________________________________________________________________________\n"
     ]
    }
   ],
   "source": [
    "vgg.model.summary()"
   ]
  },
  {
   "cell_type": "code",
   "execution_count": 34,
   "metadata": {
    "collapsed": true
   },
   "outputs": [],
   "source": [
    "#Set constants. You can experiment with no_of_epochs to improve the model\n",
    "batch_size=64\n",
    "no_of_epochs=1"
   ]
  },
  {
   "cell_type": "code",
   "execution_count": 35,
   "metadata": {
    "collapsed": true
   },
   "outputs": [],
   "source": [
    "model = vgg_ft(10)"
   ]
  },
  {
   "cell_type": "code",
   "execution_count": 36,
   "metadata": {},
   "outputs": [
    {
     "name": "stdout",
     "output_type": "stream",
     "text": [
      "____________________________________________________________________________________________________\n",
      "Layer (type)                     Output Shape          Param #     Connected to                     \n",
      "====================================================================================================\n",
      "lambda_4 (Lambda)                (None, 3, 224, 224)   0           lambda_input_4[0][0]             \n",
      "____________________________________________________________________________________________________\n",
      "zeropadding2d_40 (ZeroPadding2D) (None, 3, 226, 226)   0           lambda_4[0][0]                   \n",
      "____________________________________________________________________________________________________\n",
      "convolution2d_40 (Convolution2D) (None, 64, 224, 224)  1792        zeropadding2d_40[0][0]           \n",
      "____________________________________________________________________________________________________\n",
      "zeropadding2d_41 (ZeroPadding2D) (None, 64, 226, 226)  0           convolution2d_40[0][0]           \n",
      "____________________________________________________________________________________________________\n",
      "convolution2d_41 (Convolution2D) (None, 64, 224, 224)  36928       zeropadding2d_41[0][0]           \n",
      "____________________________________________________________________________________________________\n",
      "maxpooling2d_16 (MaxPooling2D)   (None, 64, 112, 112)  0           convolution2d_41[0][0]           \n",
      "____________________________________________________________________________________________________\n",
      "zeropadding2d_42 (ZeroPadding2D) (None, 64, 114, 114)  0           maxpooling2d_16[0][0]            \n",
      "____________________________________________________________________________________________________\n",
      "convolution2d_42 (Convolution2D) (None, 128, 112, 112) 73856       zeropadding2d_42[0][0]           \n",
      "____________________________________________________________________________________________________\n",
      "zeropadding2d_43 (ZeroPadding2D) (None, 128, 114, 114) 0           convolution2d_42[0][0]           \n",
      "____________________________________________________________________________________________________\n",
      "convolution2d_43 (Convolution2D) (None, 128, 112, 112) 147584      zeropadding2d_43[0][0]           \n",
      "____________________________________________________________________________________________________\n",
      "maxpooling2d_17 (MaxPooling2D)   (None, 128, 56, 56)   0           convolution2d_43[0][0]           \n",
      "____________________________________________________________________________________________________\n",
      "zeropadding2d_44 (ZeroPadding2D) (None, 128, 58, 58)   0           maxpooling2d_17[0][0]            \n",
      "____________________________________________________________________________________________________\n",
      "convolution2d_44 (Convolution2D) (None, 256, 56, 56)   295168      zeropadding2d_44[0][0]           \n",
      "____________________________________________________________________________________________________\n",
      "zeropadding2d_45 (ZeroPadding2D) (None, 256, 58, 58)   0           convolution2d_44[0][0]           \n",
      "____________________________________________________________________________________________________\n",
      "convolution2d_45 (Convolution2D) (None, 256, 56, 56)   590080      zeropadding2d_45[0][0]           \n",
      "____________________________________________________________________________________________________\n",
      "zeropadding2d_46 (ZeroPadding2D) (None, 256, 58, 58)   0           convolution2d_45[0][0]           \n",
      "____________________________________________________________________________________________________\n",
      "convolution2d_46 (Convolution2D) (None, 256, 56, 56)   590080      zeropadding2d_46[0][0]           \n",
      "____________________________________________________________________________________________________\n",
      "maxpooling2d_18 (MaxPooling2D)   (None, 256, 28, 28)   0           convolution2d_46[0][0]           \n",
      "____________________________________________________________________________________________________\n",
      "zeropadding2d_47 (ZeroPadding2D) (None, 256, 30, 30)   0           maxpooling2d_18[0][0]            \n",
      "____________________________________________________________________________________________________\n",
      "convolution2d_47 (Convolution2D) (None, 512, 28, 28)   1180160     zeropadding2d_47[0][0]           \n",
      "____________________________________________________________________________________________________\n",
      "zeropadding2d_48 (ZeroPadding2D) (None, 512, 30, 30)   0           convolution2d_47[0][0]           \n",
      "____________________________________________________________________________________________________\n",
      "convolution2d_48 (Convolution2D) (None, 512, 28, 28)   2359808     zeropadding2d_48[0][0]           \n",
      "____________________________________________________________________________________________________\n",
      "zeropadding2d_49 (ZeroPadding2D) (None, 512, 30, 30)   0           convolution2d_48[0][0]           \n",
      "____________________________________________________________________________________________________\n",
      "convolution2d_49 (Convolution2D) (None, 512, 28, 28)   2359808     zeropadding2d_49[0][0]           \n",
      "____________________________________________________________________________________________________\n",
      "maxpooling2d_19 (MaxPooling2D)   (None, 512, 14, 14)   0           convolution2d_49[0][0]           \n",
      "____________________________________________________________________________________________________\n",
      "zeropadding2d_50 (ZeroPadding2D) (None, 512, 16, 16)   0           maxpooling2d_19[0][0]            \n",
      "____________________________________________________________________________________________________\n",
      "convolution2d_50 (Convolution2D) (None, 512, 14, 14)   2359808     zeropadding2d_50[0][0]           \n",
      "____________________________________________________________________________________________________\n",
      "zeropadding2d_51 (ZeroPadding2D) (None, 512, 16, 16)   0           convolution2d_50[0][0]           \n",
      "____________________________________________________________________________________________________\n",
      "convolution2d_51 (Convolution2D) (None, 512, 14, 14)   2359808     zeropadding2d_51[0][0]           \n",
      "____________________________________________________________________________________________________\n",
      "zeropadding2d_52 (ZeroPadding2D) (None, 512, 16, 16)   0           convolution2d_51[0][0]           \n",
      "____________________________________________________________________________________________________\n",
      "convolution2d_52 (Convolution2D) (None, 512, 14, 14)   2359808     zeropadding2d_52[0][0]           \n",
      "____________________________________________________________________________________________________\n",
      "maxpooling2d_20 (MaxPooling2D)   (None, 512, 7, 7)     0           convolution2d_52[0][0]           \n",
      "____________________________________________________________________________________________________\n",
      "flatten_4 (Flatten)              (None, 25088)         0           maxpooling2d_20[0][0]            \n",
      "____________________________________________________________________________________________________\n",
      "dense_11 (Dense)                 (None, 4096)          102764544   flatten_4[0][0]                  \n",
      "____________________________________________________________________________________________________\n",
      "dropout_7 (Dropout)              (None, 4096)          0           dense_11[0][0]                   \n",
      "____________________________________________________________________________________________________\n",
      "dense_12 (Dense)                 (None, 4096)          16781312    dropout_7[0][0]                  \n",
      "____________________________________________________________________________________________________\n",
      "dropout_8 (Dropout)              (None, 4096)          0           dense_12[0][0]                   \n",
      "____________________________________________________________________________________________________\n",
      "dense_14 (Dense)                 (None, 10)            40970       dropout_8[0][0]                  \n",
      "====================================================================================================\n",
      "Total params: 134,301,514\n",
      "Trainable params: 40,970\n",
      "Non-trainable params: 134,260,544\n",
      "____________________________________________________________________________________________________\n"
     ]
    }
   ],
   "source": [
    "model.summary()"
   ]
  },
  {
   "cell_type": "code",
   "execution_count": null,
   "metadata": {
    "collapsed": true
   },
   "outputs": [],
   "source": [
    "#model.load_weights(results_path+'finetune3.h5')"
   ]
  },
  {
   "cell_type": "code",
   "execution_count": 37,
   "metadata": {
    "collapsed": true
   },
   "outputs": [],
   "source": [
    "layers = model.layers"
   ]
  },
  {
   "cell_type": "code",
   "execution_count": 38,
   "metadata": {
    "collapsed": true
   },
   "outputs": [],
   "source": [
    "last_conv_idx = [index for index,layer in enumerate(layers) \n",
    "                     if type(layer) is Convolution2D][-1]"
   ]
  },
  {
   "cell_type": "code",
   "execution_count": 39,
   "metadata": {},
   "outputs": [
    {
     "data": {
      "text/plain": [
       "30"
      ]
     },
     "execution_count": 39,
     "metadata": {},
     "output_type": "execute_result"
    }
   ],
   "source": [
    "last_conv_idx"
   ]
  },
  {
   "cell_type": "code",
   "execution_count": 40,
   "metadata": {
    "collapsed": true
   },
   "outputs": [],
   "source": [
    "conv_layers = layers[:last_conv_idx+1]\n",
    "conv_model = Sequential(conv_layers)\n",
    "# Dense layers - also known as fully connected or 'FC' layers\n",
    "fc_layers = layers[last_conv_idx+1:]"
   ]
  },
  {
   "cell_type": "code",
   "execution_count": 51,
   "metadata": {},
   "outputs": [
    {
     "name": "stdout",
     "output_type": "stream",
     "text": [
      "Found 200 images belonging to 10 classes.\n",
      "Found 50 images belonging to 10 classes.\n"
     ]
    }
   ],
   "source": [
    "batches = get_batches(train_path, shuffle=False, batch_size=batch_size)\n",
    "val_batches = get_batches(valid_path, shuffle=False, batch_size=batch_size)\n",
    "\n",
    "val_classes = val_batches.classes\n",
    "trn_classes = batches.classes\n",
    "val_labels = onehot(val_classes)\n",
    "trn_labels = onehot(trn_classes)"
   ]
  },
  {
   "cell_type": "code",
   "execution_count": 52,
   "metadata": {
    "collapsed": true
   },
   "outputs": [],
   "source": [
    "val_features = conv_model.predict_generator(val_batches, val_batches.nb_sample)"
   ]
  },
  {
   "cell_type": "code",
   "execution_count": 53,
   "metadata": {
    "collapsed": true
   },
   "outputs": [],
   "source": [
    "trn_features = conv_model.predict_generator(batches, batches.nb_sample)"
   ]
  },
  {
   "cell_type": "code",
   "execution_count": 54,
   "metadata": {
    "collapsed": true
   },
   "outputs": [],
   "source": [
    "save_array(results_path + 'train_convlayer_features.bc', trn_features)\n",
    "save_array(results_path + 'valid_convlayer_features.bc', val_features)"
   ]
  },
  {
   "cell_type": "code",
   "execution_count": null,
   "metadata": {
    "collapsed": true
   },
   "outputs": [],
   "source": [
    "trn_features = load_array(results_path+'train_convlayer_features.bc')\n",
    "val_features = load_array(results_path+'valid_convlayer_features.bc')"
   ]
  },
  {
   "cell_type": "code",
   "execution_count": 55,
   "metadata": {},
   "outputs": [
    {
     "data": {
      "text/plain": [
       "(200, 512, 14, 14)"
      ]
     },
     "execution_count": 55,
     "metadata": {},
     "output_type": "execute_result"
    }
   ],
   "source": [
    "trn_features.shape"
   ]
  },
  {
   "cell_type": "code",
   "execution_count": 56,
   "metadata": {
    "collapsed": true
   },
   "outputs": [],
   "source": [
    "# Such a finely tuned model needs to be updated very slowly!\n",
    "opt = RMSprop(lr=0.00001, rho=0.7)"
   ]
  },
  {
   "cell_type": "code",
   "execution_count": 71,
   "metadata": {
    "collapsed": true
   },
   "outputs": [],
   "source": [
    "def get_fc_model():\n",
    "    model = Sequential([\n",
    "        MaxPooling2D(input_shape=conv_layers[-1].output_shape[1:]),\n",
    "        Flatten(),\n",
    "        Dense(4096, activation='relu'),\n",
    "        Dropout(0.),\n",
    "        Dense(4096, activation='relu'),\n",
    "        Dropout(0.),\n",
    "        Dense(10, activation='softmax')\n",
    "        ])\n",
    "\n",
    "    for l1,l2 in zip(model.layers, fc_layers): l1.set_weights(l2.get_weights())\n",
    "\n",
    "    model.compile(optimizer=opt, loss='categorical_crossentropy', metrics=['accuracy'])\n",
    "    return model"
   ]
  },
  {
   "cell_type": "code",
   "execution_count": 72,
   "metadata": {},
   "outputs": [],
   "source": [
    "fc_model = get_fc_model()"
   ]
  },
  {
   "cell_type": "code",
   "execution_count": 74,
   "metadata": {},
   "outputs": [
    {
     "name": "stdout",
     "output_type": "stream",
     "text": [
      "Train on 200 samples, validate on 50 samples\n",
      "Epoch 1/8\n",
      "200/200 [==============================] - 5s - loss: 1.5885 - acc: 0.5250 - val_loss: 2.1525 - val_acc: 0.2800\n",
      "Epoch 2/8\n",
      "200/200 [==============================] - 5s - loss: 0.8688 - acc: 0.8450 - val_loss: 1.9167 - val_acc: 0.4400\n",
      "Epoch 3/8\n",
      "200/200 [==============================] - 5s - loss: 0.4447 - acc: 0.9650 - val_loss: 1.7873 - val_acc: 0.4400\n",
      "Epoch 4/8\n",
      "200/200 [==============================] - 5s - loss: 0.2437 - acc: 0.9850 - val_loss: 1.6810 - val_acc: 0.5000\n",
      "Epoch 5/8\n",
      "200/200 [==============================] - 5s - loss: 0.1302 - acc: 1.0000 - val_loss: 1.6005 - val_acc: 0.5000\n",
      "Epoch 6/8\n",
      "200/200 [==============================] - 5s - loss: 0.0685 - acc: 1.0000 - val_loss: 1.6243 - val_acc: 0.5400\n",
      "Epoch 7/8\n",
      "200/200 [==============================] - 5s - loss: 0.0430 - acc: 1.0000 - val_loss: 1.4576 - val_acc: 0.5200\n",
      "Epoch 8/8\n",
      "200/200 [==============================] - 5s - loss: 0.0182 - acc: 1.0000 - val_loss: 1.4093 - val_acc: 0.5600\n"
     ]
    },
    {
     "data": {
      "text/plain": [
       "<keras.callbacks.History at 0x252226d5eb8>"
      ]
     },
     "execution_count": 74,
     "metadata": {},
     "output_type": "execute_result"
    }
   ],
   "source": [
    "fc_model.fit(trn_features, trn_labels, nb_epoch=8, \n",
    "             batch_size=batch_size, validation_data=(val_features, val_labels))"
   ]
  },
  {
   "cell_type": "markdown",
   "metadata": {},
   "source": [
    "## Generate Predictions"
   ]
  },
  {
   "cell_type": "code",
   "execution_count": 75,
   "metadata": {
    "collapsed": true
   },
   "outputs": [],
   "source": [
    "def do_clip(arr, mx): return np.clip(arr, (1-mx)/9, mx)"
   ]
  },
  {
   "cell_type": "code",
   "execution_count": 81,
   "metadata": {},
   "outputs": [
    {
     "name": "stdout",
     "output_type": "stream",
     "text": [
      "Found 8 images belonging to 1 classes.\n"
     ]
    }
   ],
   "source": [
    "test_batches = vgg.get_batches(test_path, shuffle=False, batch_size=batch_size, class_mode=None)\n",
    "preds = model.predict_generator(test_batches, test_batches.nb_sample)"
   ]
  },
  {
   "cell_type": "markdown",
   "metadata": {},
   "source": [
    "## Submit Predictions to Kaggle!"
   ]
  },
  {
   "cell_type": "code",
   "execution_count": 83,
   "metadata": {
    "collapsed": true
   },
   "outputs": [],
   "source": [
    "subm = do_clip(preds,0.93)"
   ]
  },
  {
   "cell_type": "code",
   "execution_count": 84,
   "metadata": {
    "collapsed": true
   },
   "outputs": [],
   "source": [
    "subm_name = path+'results/subm.gz'"
   ]
  },
  {
   "cell_type": "code",
   "execution_count": 85,
   "metadata": {
    "collapsed": true
   },
   "outputs": [],
   "source": [
    "classes = sorted(batches.class_indices, key=batches.class_indices.get)"
   ]
  },
  {
   "cell_type": "code",
   "execution_count": 96,
   "metadata": {},
   "outputs": [
    {
     "name": "stdout",
     "output_type": "stream",
     "text": [
      "c:\\Users\\Manuel\\Projects\\deepLearning\\data\\statefarm\\sample\\test\\unknown\n"
     ]
    }
   ],
   "source": [
    "%cd $test_path/unknown\n",
    "test_filenames = glob('*.jpg')"
   ]
  },
  {
   "cell_type": "code",
   "execution_count": 97,
   "metadata": {},
   "outputs": [
    {
     "data": {
      "text/plain": [
       "['img_1.jpg',\n",
       " 'img_10.jpg',\n",
       " 'img_2.jpg',\n",
       " 'img_3.jpg',\n",
       " 'img_4.jpg',\n",
       " 'img_7.jpg',\n",
       " 'img_8.jpg',\n",
       " 'img_9.jpg']"
      ]
     },
     "execution_count": 97,
     "metadata": {},
     "output_type": "execute_result"
    }
   ],
   "source": [
    "test_filenames"
   ]
  },
  {
   "cell_type": "code",
   "execution_count": 98,
   "metadata": {},
   "outputs": [
    {
     "data": {
      "text/html": [
       "<div>\n",
       "<table border=\"1\" class=\"dataframe\">\n",
       "  <thead>\n",
       "    <tr style=\"text-align: right;\">\n",
       "      <th></th>\n",
       "      <th>img</th>\n",
       "      <th>c0</th>\n",
       "      <th>c1</th>\n",
       "      <th>c2</th>\n",
       "      <th>c3</th>\n",
       "      <th>c4</th>\n",
       "      <th>c5</th>\n",
       "      <th>c6</th>\n",
       "      <th>c7</th>\n",
       "      <th>c8</th>\n",
       "      <th>c9</th>\n",
       "    </tr>\n",
       "  </thead>\n",
       "  <tbody>\n",
       "    <tr>\n",
       "      <th>0</th>\n",
       "      <td>1.jpg</td>\n",
       "      <td>0.161404</td>\n",
       "      <td>0.010177</td>\n",
       "      <td>0.007778</td>\n",
       "      <td>0.007778</td>\n",
       "      <td>0.007778</td>\n",
       "      <td>0.698914</td>\n",
       "      <td>0.041487</td>\n",
       "      <td>0.041128</td>\n",
       "      <td>0.013971</td>\n",
       "      <td>0.029900</td>\n",
       "    </tr>\n",
       "    <tr>\n",
       "      <th>1</th>\n",
       "      <td>10.jpg</td>\n",
       "      <td>0.115127</td>\n",
       "      <td>0.088585</td>\n",
       "      <td>0.007778</td>\n",
       "      <td>0.011302</td>\n",
       "      <td>0.007778</td>\n",
       "      <td>0.252474</td>\n",
       "      <td>0.259416</td>\n",
       "      <td>0.133239</td>\n",
       "      <td>0.074328</td>\n",
       "      <td>0.050663</td>\n",
       "    </tr>\n",
       "    <tr>\n",
       "      <th>2</th>\n",
       "      <td>2.jpg</td>\n",
       "      <td>0.102343</td>\n",
       "      <td>0.131780</td>\n",
       "      <td>0.028444</td>\n",
       "      <td>0.069035</td>\n",
       "      <td>0.007778</td>\n",
       "      <td>0.428041</td>\n",
       "      <td>0.148639</td>\n",
       "      <td>0.034620</td>\n",
       "      <td>0.019967</td>\n",
       "      <td>0.036070</td>\n",
       "    </tr>\n",
       "    <tr>\n",
       "      <th>3</th>\n",
       "      <td>3.jpg</td>\n",
       "      <td>0.308278</td>\n",
       "      <td>0.112526</td>\n",
       "      <td>0.020729</td>\n",
       "      <td>0.007778</td>\n",
       "      <td>0.007778</td>\n",
       "      <td>0.071733</td>\n",
       "      <td>0.028683</td>\n",
       "      <td>0.195908</td>\n",
       "      <td>0.163401</td>\n",
       "      <td>0.092109</td>\n",
       "    </tr>\n",
       "    <tr>\n",
       "      <th>4</th>\n",
       "      <td>4.jpg</td>\n",
       "      <td>0.011661</td>\n",
       "      <td>0.014012</td>\n",
       "      <td>0.070737</td>\n",
       "      <td>0.031022</td>\n",
       "      <td>0.007778</td>\n",
       "      <td>0.082716</td>\n",
       "      <td>0.644386</td>\n",
       "      <td>0.022196</td>\n",
       "      <td>0.111524</td>\n",
       "      <td>0.010511</td>\n",
       "    </tr>\n",
       "  </tbody>\n",
       "</table>\n",
       "</div>"
      ],
      "text/plain": [
       "      img        c0        c1        c2        c3        c4        c5  \\\n",
       "0   1.jpg  0.161404  0.010177  0.007778  0.007778  0.007778  0.698914   \n",
       "1  10.jpg  0.115127  0.088585  0.007778  0.011302  0.007778  0.252474   \n",
       "2   2.jpg  0.102343  0.131780  0.028444  0.069035  0.007778  0.428041   \n",
       "3   3.jpg  0.308278  0.112526  0.020729  0.007778  0.007778  0.071733   \n",
       "4   4.jpg  0.011661  0.014012  0.070737  0.031022  0.007778  0.082716   \n",
       "\n",
       "         c6        c7        c8        c9  \n",
       "0  0.041487  0.041128  0.013971  0.029900  \n",
       "1  0.259416  0.133239  0.074328  0.050663  \n",
       "2  0.148639  0.034620  0.019967  0.036070  \n",
       "3  0.028683  0.195908  0.163401  0.092109  \n",
       "4  0.644386  0.022196  0.111524  0.010511  "
      ]
     },
     "execution_count": 98,
     "metadata": {},
     "output_type": "execute_result"
    }
   ],
   "source": [
    "submission = pd.DataFrame(subm, columns=classes)\n",
    "submission.insert(0, 'img', [a[4:] for a in test_filenames])\n",
    "submission.head()"
   ]
  },
  {
   "cell_type": "code",
   "execution_count": 99,
   "metadata": {
    "collapsed": true
   },
   "outputs": [],
   "source": [
    "submission.to_csv(subm_name, index=False, compression='gzip')"
   ]
  },
  {
   "cell_type": "code",
   "execution_count": 100,
   "metadata": {},
   "outputs": [
    {
     "data": {
      "text/html": [
       "<a href='c:\\Users\\Manuel\\Projects\\deepLearning\\lesson2/../data/statefarm/sample/results/subm.gz' target='_blank'>c:\\Users\\Manuel\\Projects\\deepLearning\\lesson2/../data/statefarm/sample/results/subm.gz</a><br>"
      ],
      "text/plain": [
       "c:\\Users\\Manuel\\Projects\\deepLearning\\data\\statefarm\\sample\\results\\subm.gz"
      ]
     },
     "execution_count": 100,
     "metadata": {},
     "output_type": "execute_result"
    }
   ],
   "source": [
    "FileLink(subm_name)"
   ]
  }
 ],
 "metadata": {
  "kernelspec": {
   "display_name": "Python 3",
   "language": "python",
   "name": "python3"
  },
  "language_info": {
   "codemirror_mode": {
    "name": "ipython",
    "version": 3
   },
   "file_extension": ".py",
   "mimetype": "text/x-python",
   "name": "python",
   "nbconvert_exporter": "python",
   "pygments_lexer": "ipython3",
   "version": "3.6.1"
  }
 },
 "nbformat": 4,
 "nbformat_minor": 2
}
